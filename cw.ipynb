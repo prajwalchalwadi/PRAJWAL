{
  "nbformat": 4,
  "nbformat_minor": 0,
  "metadata": {
    "colab": {
      "provenance": [],
      "authorship_tag": "ABX9TyNj/o7CxTuW2r5bZuV0Q1IW",
      "include_colab_link": true
    },
    "kernelspec": {
      "name": "python3",
      "display_name": "Python 3"
    },
    "language_info": {
      "name": "python"
    }
  },
  "cells": [
    {
      "cell_type": "markdown",
      "metadata": {
        "id": "view-in-github",
        "colab_type": "text"
      },
      "source": [
        "<a href=\"https://colab.research.google.com/github/prajwalchalwadi/PRAJWAL/blob/main/cw.ipynb\" target=\"_parent\"><img src=\"https://colab.research.google.com/assets/colab-badge.svg\" alt=\"Open In Colab\"/></a>"
      ]
    },
    {
      "cell_type": "code",
      "execution_count": 7,
      "metadata": {
        "colab": {
          "base_uri": "https://localhost:8080/"
        },
        "id": "63Cw4frkleoF",
        "outputId": "a69f7497-37bf-4edc-c396-9645b0c7b627"
      },
      "outputs": [
        {
          "output_type": "stream",
          "name": "stdout",
          "text": [
            "10\n",
            "18\n",
            "13\n",
            "0\n"
          ]
        }
      ],
      "source": [
        "a=10\n",
        "print(a)\n",
        "a+=8\n",
        "print(a)\n",
        "a-=5\n",
        "print(a)\n",
        "a*=0\n",
        "print(a)\n",
        "\n"
      ]
    },
    {
      "cell_type": "code",
      "source": [
        "a=20\n",
        "print(a)"
      ],
      "metadata": {
        "colab": {
          "base_uri": "https://localhost:8080/"
        },
        "id": "JZmVXLmAljEs",
        "outputId": "674d72f8-a7f9-4ab7-fa26-0f2f24690757"
      },
      "execution_count": 8,
      "outputs": [
        {
          "output_type": "stream",
          "name": "stdout",
          "text": [
            "20\n"
          ]
        }
      ]
    },
    {
      "cell_type": "code",
      "source": [
        "a=20\n",
        "a/=2\n",
        "print(a)"
      ],
      "metadata": {
        "colab": {
          "base_uri": "https://localhost:8080/"
        },
        "id": "XZjzbXTNmu5B",
        "outputId": "c296b8d3-5f74-416e-de11-85ff0297e42d"
      },
      "execution_count": 17,
      "outputs": [
        {
          "output_type": "stream",
          "name": "stdout",
          "text": [
            "10.0\n"
          ]
        }
      ]
    },
    {
      "cell_type": "code",
      "source": [],
      "metadata": {
        "id": "LJpCh6V9nvQM"
      },
      "execution_count": null,
      "outputs": []
    },
    {
      "cell_type": "markdown",
      "source": [
        "**identify and membership operators**"
      ],
      "metadata": {
        "id": "LU9-jvXgrqrm"
      }
    },
    {
      "cell_type": "code",
      "source": [
        "x=[\"hubli\",\"belgaum\"]\n",
        "y=[\"hubli\",\"belgaum\"]\n",
        "z=x\n",
        "z=y\n",
        "print(z is not x)\n",
        "print(y is x)\n",
        "print(y is z)"
      ],
      "metadata": {
        "colab": {
          "base_uri": "https://localhost:8080/"
        },
        "id": "XOsax46pryKm",
        "outputId": "73f8c010-78e8-4144-e333-cbca1924f5aa"
      },
      "execution_count": 23,
      "outputs": [
        {
          "output_type": "stream",
          "name": "stdout",
          "text": [
            "True\n",
            "False\n",
            "True\n"
          ]
        }
      ]
    },
    {
      "cell_type": "code",
      "source": [],
      "metadata": {
        "id": "0MvTAfCYsJD4"
      },
      "execution_count": null,
      "outputs": []
    },
    {
      "cell_type": "markdown",
      "source": [
        "**while loop**"
      ],
      "metadata": {
        "id": "6qZL43x6tw-i"
      }
    },
    {
      "cell_type": "code",
      "source": [
        "num=int(input(\"enter the number\"))\n",
        "while num<=9:\n",
        " print(\"number is single digit\")\n",
        " break\n",
        "while num>9 and num<=99:\n",
        " print(\"number is double digit\")\n",
        " break\n"
      ],
      "metadata": {
        "colab": {
          "base_uri": "https://localhost:8080/"
        },
        "id": "HZyqbNJ0t2qM",
        "outputId": "47fc12b4-844d-4a33-cea7-0c481bc55192"
      },
      "execution_count": 43,
      "outputs": [
        {
          "output_type": "stream",
          "name": "stdout",
          "text": [
            "enter the number55\n",
            "number is double digit\n"
          ]
        }
      ]
    },
    {
      "cell_type": "code",
      "source": [],
      "metadata": {
        "id": "CwORQ9N6ucSF"
      },
      "execution_count": 32,
      "outputs": []
    },
    {
      "cell_type": "markdown",
      "source": [
        "**for loop**"
      ],
      "metadata": {
        "id": "yBmy42_Sypnp"
      }
    },
    {
      "cell_type": "code",
      "source": [
        "for x in range(6):\n",
        "  print(x)"
      ],
      "metadata": {
        "colab": {
          "base_uri": "https://localhost:8080/"
        },
        "id": "WBbpsu92yt2x",
        "outputId": "724d3bb5-4160-44c4-c94d-fe2c799285b8"
      },
      "execution_count": 44,
      "outputs": [
        {
          "output_type": "stream",
          "name": "stdout",
          "text": [
            "0\n",
            "1\n",
            "2\n",
            "3\n",
            "4\n",
            "5\n"
          ]
        }
      ]
    },
    {
      "cell_type": "code",
      "source": [
        "for x in range(1,20,2):\n",
        "  print(x)"
      ],
      "metadata": {
        "colab": {
          "base_uri": "https://localhost:8080/"
        },
        "id": "2D1pYIGoy5WN",
        "outputId": "840376eb-cbf1-49c0-b841-f9d632fa4e2e"
      },
      "execution_count": 46,
      "outputs": [
        {
          "output_type": "stream",
          "name": "stdout",
          "text": [
            "1\n",
            "3\n",
            "5\n",
            "7\n",
            "9\n",
            "11\n",
            "13\n",
            "15\n",
            "17\n",
            "19\n"
          ]
        }
      ]
    },
    {
      "cell_type": "code",
      "source": [
        "for x in range(0,1000,100):\n",
        "  print(\"trible digit number\")"
      ],
      "metadata": {
        "colab": {
          "base_uri": "https://localhost:8080/"
        },
        "id": "-CD7aDmszBAO",
        "outputId": "81db796b-4247-4889-def2-b8b4a2b15fc0"
      },
      "execution_count": 48,
      "outputs": [
        {
          "output_type": "stream",
          "name": "stdout",
          "text": [
            "trible digit number\n",
            "trible digit number\n",
            "trible digit number\n",
            "trible digit number\n",
            "trible digit number\n",
            "trible digit number\n",
            "trible digit number\n",
            "trible digit number\n",
            "trible digit number\n",
            "trible digit number\n"
          ]
        }
      ]
    },
    {
      "cell_type": "code",
      "source": [],
      "metadata": {
        "id": "GjwgcjvQzSGr"
      },
      "execution_count": null,
      "outputs": []
    }
  ]
}