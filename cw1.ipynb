{
  "nbformat": 4,
  "nbformat_minor": 0,
  "metadata": {
    "colab": {
      "provenance": [],
      "authorship_tag": "ABX9TyPjCtoYOLXaQKCTWjWP9iU3",
      "include_colab_link": true
    },
    "kernelspec": {
      "name": "python3",
      "display_name": "Python 3"
    },
    "language_info": {
      "name": "python"
    }
  },
  "cells": [
    {
      "cell_type": "markdown",
      "metadata": {
        "id": "view-in-github",
        "colab_type": "text"
      },
      "source": [
        "<a href=\"https://colab.research.google.com/github/prajwalchalwadi/PRAJWAL/blob/main/cw1.ipynb\" target=\"_parent\"><img src=\"https://colab.research.google.com/assets/colab-badge.svg\" alt=\"Open In Colab\"/></a>"
      ]
    },
    {
      "cell_type": "code",
      "execution_count": null,
      "metadata": {
        "id": "_teypFMGF-UM"
      },
      "outputs": [],
      "source": []
    },
    {
      "cell_type": "markdown",
      "source": [
        "**functions**"
      ],
      "metadata": {
        "id": "M98GCCa6F_nw"
      }
    },
    {
      "cell_type": "code",
      "source": [
        "def employee(n,a,g):\n",
        " print(\"name is :\",n)\n",
        " print(\"age is:\",a)\n",
        " print(\"gender is:\",g)\n",
        "employee(\"rachanna\",\"18\",\"male\")\n",
        "employee(\"aruna\",\"21\",\"female\")"
      ],
      "metadata": {
        "colab": {
          "base_uri": "https://localhost:8080/"
        },
        "id": "coeS04mIGDWB",
        "outputId": "53385528-61c3-45e4-d2a5-51124e464788"
      },
      "execution_count": 6,
      "outputs": [
        {
          "output_type": "stream",
          "name": "stdout",
          "text": [
            "name is : rachanna\n",
            "age is: 18\n",
            "gender is: male\n",
            "name is : aruna\n",
            "age is: 21\n",
            "gender is: female\n"
          ]
        }
      ]
    },
    {
      "cell_type": "code",
      "source": [],
      "metadata": {
        "id": "RFxQfeflHZ7j"
      },
      "execution_count": null,
      "outputs": []
    },
    {
      "cell_type": "markdown",
      "source": [
        "**args**"
      ],
      "metadata": {
        "id": "eVEXJLUeKgXz"
      }
    },
    {
      "cell_type": "code",
      "source": [
        "def add(*args):\n",
        "  sum=1\n",
        "  for i in args:\n",
        "    sum+=i\n",
        "  return sum\n",
        "print(add(1,4))"
      ],
      "metadata": {
        "colab": {
          "base_uri": "https://localhost:8080/"
        },
        "id": "YBEa_2ZCKjPX",
        "outputId": "d0cc024e-394b-4a7e-db60-4754c621a51b"
      },
      "execution_count": 18,
      "outputs": [
        {
          "output_type": "stream",
          "name": "stdout",
          "text": [
            "6\n"
          ]
        }
      ]
    },
    {
      "cell_type": "code",
      "source": [],
      "metadata": {
        "id": "Rwn0bHLBLMrK"
      },
      "execution_count": null,
      "outputs": []
    },
    {
      "cell_type": "markdown",
      "source": [
        "**kwargs**"
      ],
      "metadata": {
        "id": "XRmDuMLyMll3"
      }
    },
    {
      "cell_type": "code",
      "source": [
        "def greet(**kwargs):\n",
        " print(\"hello\")\n",
        " for key, value in kwargs.items():\n",
        "  print(value)\n",
        "greet(name=\"prajwal\",usn=\"01fe22bec422\")"
      ],
      "metadata": {
        "colab": {
          "base_uri": "https://localhost:8080/"
        },
        "id": "xu2lZw41MoVb",
        "outputId": "c5ae82a7-9bb3-457a-bcd7-bd318f6557b6"
      },
      "execution_count": 26,
      "outputs": [
        {
          "output_type": "stream",
          "name": "stdout",
          "text": [
            "hello\n",
            "prajwal\n",
            "01fe22bec422\n"
          ]
        }
      ]
    },
    {
      "cell_type": "code",
      "source": [],
      "metadata": {
        "id": "oU5GtY5NNFi-"
      },
      "execution_count": null,
      "outputs": []
    },
    {
      "cell_type": "markdown",
      "source": [
        "**Random**"
      ],
      "metadata": {
        "id": "Ah2XbZ0ePB6w"
      }
    },
    {
      "cell_type": "code",
      "source": [
        "import random\n",
        "computer=random.randint(1,9)\n",
        "userinput=int(input(\"enter the between 1 t0 9\\n\"))\n",
        "print(computer)\n",
        "print(userinput)\n",
        "if computer>userinput:\n",
        "  print(\"computer won\")\n",
        "elif computer==userinput:\n",
        "  print(\"TIE\")\n",
        "else:\n",
        "  print(\"you won\")\n"
      ],
      "metadata": {
        "colab": {
          "base_uri": "https://localhost:8080/"
        },
        "id": "I9tewoYYPFdq",
        "outputId": "7349af8f-2bee-4656-e35c-f671a66c4f90"
      },
      "execution_count": 31,
      "outputs": [
        {
          "output_type": "stream",
          "name": "stdout",
          "text": [
            "enter the between 1 t0 9\n",
            "9\n",
            "4\n",
            "9\n",
            "you won\n"
          ]
        }
      ]
    },
    {
      "cell_type": "code",
      "source": [
        "import random\n",
        "gamelist=['rock','paper','scissors']\n",
        "comp=random.choice(gamelist)\n",
        "user=input(\"enter either rock or paper or scissors\\n\")\n",
        "print(comp)\n",
        "print(user)\n",
        "\n",
        "if(comp==\"rock\" and user==\"paper\"):\n",
        "  print(\"computer won\")\n",
        "elif (comp==\"paper\" and user==\"scissors\"):\n",
        "  print(\"you won\")\n",
        "else:\n",
        "  print(\"tie\")\n"
      ],
      "metadata": {
        "colab": {
          "base_uri": "https://localhost:8080/"
        },
        "id": "6RVO5PdvQA2O",
        "outputId": "2cd7c395-d91e-4364-806f-60ec0acf1a2a"
      },
      "execution_count": 36,
      "outputs": [
        {
          "output_type": "stream",
          "name": "stdout",
          "text": [
            "enter either rock or paper or scissors\n",
            "rock\n",
            "scissors\n",
            "rock\n",
            "tie\n"
          ]
        }
      ]
    },
    {
      "cell_type": "code",
      "source": [],
      "metadata": {
        "id": "C-1pR3qaQ_aD"
      },
      "execution_count": null,
      "outputs": []
    }
  ]
}